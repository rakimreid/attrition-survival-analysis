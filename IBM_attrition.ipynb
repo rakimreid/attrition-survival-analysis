{
 "cells": [
  {
   "cell_type": "code",
   "execution_count": 106,
   "id": "013f0904-5661-43c9-bbef-b1c6d6dec0d7",
   "metadata": {},
   "outputs": [],
   "source": [
    "# Business Problem : How quickly does attrition occur for those employees that leave? "
   ]
  },
  {
   "cell_type": "code",
   "execution_count": 128,
   "id": "35343aa8-68cb-4d23-a0f7-133e1ade98d5",
   "metadata": {},
   "outputs": [],
   "source": [
    "# Purpose : Here is the definition for attrition: \"the gradual reduction of a workforce by employees' leaving and not being replaced rather than by their being laid off\" according to\n",
    "# Oxford languages definition. "
   ]
  },
  {
   "cell_type": "code",
   "execution_count": null,
   "id": "9b6dfa2a-52b6-485d-935d-5532df7c106a",
   "metadata": {},
   "outputs": [],
   "source": [
    "# Survival Analysis aka Time-to-event analysis: This type of analysis is useful for analyzing the expected duration of time until one event occurs.\n",
    "# This could be time to attrition (like in this project), death in biological organisms or failure in mechanical systems. "
   ]
  },
  {
   "cell_type": "code",
   "execution_count": 109,
   "id": "63dfb8aa-85a6-4640-bd37-ec6cc9fe9ffa",
   "metadata": {},
   "outputs": [],
   "source": [
    "import pandas as pd\n",
    "import numpy as np\n",
    "import seaborn as sns\n",
    "from lifelines import KaplanMeierFitter"
   ]
  },
  {
   "cell_type": "code",
   "execution_count": 110,
   "id": "827c53ba-c535-4ae2-82cd-cb85b23805c9",
   "metadata": {},
   "outputs": [],
   "source": [
    "file = \"C:\\Portfolio\\Data Engineer Track\\Python\\IBM Attrition and Performance\\IBM_excel.xlsx\""
   ]
  },
  {
   "cell_type": "code",
   "execution_count": 111,
   "id": "442ed101-d310-4085-9fc1-51998c2ec331",
   "metadata": {},
   "outputs": [],
   "source": [
    "df = pd.read_excel(file)"
   ]
  },
  {
   "cell_type": "code",
   "execution_count": 112,
   "id": "dcfc016a-f268-4bc5-beac-68eff072910b",
   "metadata": {},
   "outputs": [
    {
     "data": {
      "text/html": [
       "<div>\n",
       "<style scoped>\n",
       "    .dataframe tbody tr th:only-of-type {\n",
       "        vertical-align: middle;\n",
       "    }\n",
       "\n",
       "    .dataframe tbody tr th {\n",
       "        vertical-align: top;\n",
       "    }\n",
       "\n",
       "    .dataframe thead th {\n",
       "        text-align: right;\n",
       "    }\n",
       "</style>\n",
       "<table border=\"1\" class=\"dataframe\">\n",
       "  <thead>\n",
       "    <tr style=\"text-align: right;\">\n",
       "      <th></th>\n",
       "      <th>Age</th>\n",
       "      <th>Boolean_Attrition</th>\n",
       "      <th>DistanceFromHome (in miles)</th>\n",
       "      <th>EmployeeNumber</th>\n",
       "      <th>Male</th>\n",
       "      <th>Annual_Salary</th>\n",
       "      <th>JobLevel</th>\n",
       "      <th>NumCompaniesWorked</th>\n",
       "      <th>PercentSalaryHike</th>\n",
       "      <th>StockOptionLevel</th>\n",
       "      <th>TotalWorkingYears</th>\n",
       "      <th>TrainingTimesLastYear</th>\n",
       "      <th>YearsAtCompany</th>\n",
       "      <th>YearsInCurrentRole</th>\n",
       "      <th>YearsSinceLastPromotion</th>\n",
       "      <th>YearsWithCurrManager</th>\n",
       "    </tr>\n",
       "  </thead>\n",
       "  <tbody>\n",
       "    <tr>\n",
       "      <th>count</th>\n",
       "      <td>1470.000000</td>\n",
       "      <td>1470.000000</td>\n",
       "      <td>1470.000000</td>\n",
       "      <td>1470.000000</td>\n",
       "      <td>1470.000000</td>\n",
       "      <td>1470.000000</td>\n",
       "      <td>1470.000000</td>\n",
       "      <td>1470.000000</td>\n",
       "      <td>1470.000000</td>\n",
       "      <td>1470.000000</td>\n",
       "      <td>1470.000000</td>\n",
       "      <td>1470.000000</td>\n",
       "      <td>1470.000000</td>\n",
       "      <td>1470.000000</td>\n",
       "      <td>1470.000000</td>\n",
       "      <td>1470.000000</td>\n",
       "    </tr>\n",
       "    <tr>\n",
       "      <th>mean</th>\n",
       "      <td>36.923810</td>\n",
       "      <td>0.161224</td>\n",
       "      <td>9.192517</td>\n",
       "      <td>1024.865306</td>\n",
       "      <td>0.600000</td>\n",
       "      <td>137053.605442</td>\n",
       "      <td>2.063946</td>\n",
       "      <td>2.693197</td>\n",
       "      <td>15.209524</td>\n",
       "      <td>0.793878</td>\n",
       "      <td>11.279592</td>\n",
       "      <td>2.799320</td>\n",
       "      <td>7.008163</td>\n",
       "      <td>4.229252</td>\n",
       "      <td>2.187755</td>\n",
       "      <td>4.123129</td>\n",
       "    </tr>\n",
       "    <tr>\n",
       "      <th>std</th>\n",
       "      <td>9.135373</td>\n",
       "      <td>0.367863</td>\n",
       "      <td>8.106864</td>\n",
       "      <td>602.024335</td>\n",
       "      <td>0.490065</td>\n",
       "      <td>42285.209396</td>\n",
       "      <td>1.106940</td>\n",
       "      <td>2.498009</td>\n",
       "      <td>3.659938</td>\n",
       "      <td>0.852077</td>\n",
       "      <td>7.780782</td>\n",
       "      <td>1.289271</td>\n",
       "      <td>6.126525</td>\n",
       "      <td>3.623137</td>\n",
       "      <td>3.222430</td>\n",
       "      <td>3.568136</td>\n",
       "    </tr>\n",
       "    <tr>\n",
       "      <th>min</th>\n",
       "      <td>18.000000</td>\n",
       "      <td>0.000000</td>\n",
       "      <td>1.000000</td>\n",
       "      <td>1.000000</td>\n",
       "      <td>0.000000</td>\n",
       "      <td>62400.000000</td>\n",
       "      <td>1.000000</td>\n",
       "      <td>0.000000</td>\n",
       "      <td>11.000000</td>\n",
       "      <td>0.000000</td>\n",
       "      <td>0.000000</td>\n",
       "      <td>0.000000</td>\n",
       "      <td>0.000000</td>\n",
       "      <td>0.000000</td>\n",
       "      <td>0.000000</td>\n",
       "      <td>0.000000</td>\n",
       "    </tr>\n",
       "    <tr>\n",
       "      <th>25%</th>\n",
       "      <td>30.000000</td>\n",
       "      <td>0.000000</td>\n",
       "      <td>2.000000</td>\n",
       "      <td>491.250000</td>\n",
       "      <td>0.000000</td>\n",
       "      <td>99840.000000</td>\n",
       "      <td>1.000000</td>\n",
       "      <td>1.000000</td>\n",
       "      <td>12.000000</td>\n",
       "      <td>0.000000</td>\n",
       "      <td>6.000000</td>\n",
       "      <td>2.000000</td>\n",
       "      <td>3.000000</td>\n",
       "      <td>2.000000</td>\n",
       "      <td>0.000000</td>\n",
       "      <td>2.000000</td>\n",
       "    </tr>\n",
       "    <tr>\n",
       "      <th>50%</th>\n",
       "      <td>36.000000</td>\n",
       "      <td>0.000000</td>\n",
       "      <td>7.000000</td>\n",
       "      <td>1020.500000</td>\n",
       "      <td>1.000000</td>\n",
       "      <td>137280.000000</td>\n",
       "      <td>2.000000</td>\n",
       "      <td>2.000000</td>\n",
       "      <td>14.000000</td>\n",
       "      <td>1.000000</td>\n",
       "      <td>10.000000</td>\n",
       "      <td>3.000000</td>\n",
       "      <td>5.000000</td>\n",
       "      <td>3.000000</td>\n",
       "      <td>1.000000</td>\n",
       "      <td>3.000000</td>\n",
       "    </tr>\n",
       "    <tr>\n",
       "      <th>75%</th>\n",
       "      <td>43.000000</td>\n",
       "      <td>0.000000</td>\n",
       "      <td>14.000000</td>\n",
       "      <td>1555.750000</td>\n",
       "      <td>1.000000</td>\n",
       "      <td>174200.000000</td>\n",
       "      <td>3.000000</td>\n",
       "      <td>4.000000</td>\n",
       "      <td>18.000000</td>\n",
       "      <td>1.000000</td>\n",
       "      <td>15.000000</td>\n",
       "      <td>3.000000</td>\n",
       "      <td>9.000000</td>\n",
       "      <td>7.000000</td>\n",
       "      <td>3.000000</td>\n",
       "      <td>7.000000</td>\n",
       "    </tr>\n",
       "    <tr>\n",
       "      <th>max</th>\n",
       "      <td>60.000000</td>\n",
       "      <td>1.000000</td>\n",
       "      <td>29.000000</td>\n",
       "      <td>2068.000000</td>\n",
       "      <td>1.000000</td>\n",
       "      <td>208000.000000</td>\n",
       "      <td>5.000000</td>\n",
       "      <td>9.000000</td>\n",
       "      <td>25.000000</td>\n",
       "      <td>3.000000</td>\n",
       "      <td>40.000000</td>\n",
       "      <td>6.000000</td>\n",
       "      <td>40.000000</td>\n",
       "      <td>18.000000</td>\n",
       "      <td>15.000000</td>\n",
       "      <td>17.000000</td>\n",
       "    </tr>\n",
       "  </tbody>\n",
       "</table>\n",
       "</div>"
      ],
      "text/plain": [
       "               Age  Boolean_Attrition  DistanceFromHome (in miles)  \\\n",
       "count  1470.000000        1470.000000                  1470.000000   \n",
       "mean     36.923810           0.161224                     9.192517   \n",
       "std       9.135373           0.367863                     8.106864   \n",
       "min      18.000000           0.000000                     1.000000   \n",
       "25%      30.000000           0.000000                     2.000000   \n",
       "50%      36.000000           0.000000                     7.000000   \n",
       "75%      43.000000           0.000000                    14.000000   \n",
       "max      60.000000           1.000000                    29.000000   \n",
       "\n",
       "       EmployeeNumber         Male  Annual_Salary     JobLevel  \\\n",
       "count     1470.000000  1470.000000    1470.000000  1470.000000   \n",
       "mean      1024.865306     0.600000  137053.605442     2.063946   \n",
       "std        602.024335     0.490065   42285.209396     1.106940   \n",
       "min          1.000000     0.000000   62400.000000     1.000000   \n",
       "25%        491.250000     0.000000   99840.000000     1.000000   \n",
       "50%       1020.500000     1.000000  137280.000000     2.000000   \n",
       "75%       1555.750000     1.000000  174200.000000     3.000000   \n",
       "max       2068.000000     1.000000  208000.000000     5.000000   \n",
       "\n",
       "       NumCompaniesWorked  PercentSalaryHike  StockOptionLevel  \\\n",
       "count         1470.000000        1470.000000       1470.000000   \n",
       "mean             2.693197          15.209524          0.793878   \n",
       "std              2.498009           3.659938          0.852077   \n",
       "min              0.000000          11.000000          0.000000   \n",
       "25%              1.000000          12.000000          0.000000   \n",
       "50%              2.000000          14.000000          1.000000   \n",
       "75%              4.000000          18.000000          1.000000   \n",
       "max              9.000000          25.000000          3.000000   \n",
       "\n",
       "       TotalWorkingYears  TrainingTimesLastYear  YearsAtCompany  \\\n",
       "count        1470.000000            1470.000000     1470.000000   \n",
       "mean           11.279592               2.799320        7.008163   \n",
       "std             7.780782               1.289271        6.126525   \n",
       "min             0.000000               0.000000        0.000000   \n",
       "25%             6.000000               2.000000        3.000000   \n",
       "50%            10.000000               3.000000        5.000000   \n",
       "75%            15.000000               3.000000        9.000000   \n",
       "max            40.000000               6.000000       40.000000   \n",
       "\n",
       "       YearsInCurrentRole  YearsSinceLastPromotion  YearsWithCurrManager  \n",
       "count         1470.000000              1470.000000           1470.000000  \n",
       "mean             4.229252                 2.187755              4.123129  \n",
       "std              3.623137                 3.222430              3.568136  \n",
       "min              0.000000                 0.000000              0.000000  \n",
       "25%              2.000000                 0.000000              2.000000  \n",
       "50%              3.000000                 1.000000              3.000000  \n",
       "75%              7.000000                 3.000000              7.000000  \n",
       "max             18.000000                15.000000             17.000000  "
      ]
     },
     "execution_count": 112,
     "metadata": {},
     "output_type": "execute_result"
    }
   ],
   "source": [
    "df.describe()"
   ]
  },
  {
   "cell_type": "code",
   "execution_count": 113,
   "id": "b705c6bf-6cbb-4aa3-8274-b0323fdcad63",
   "metadata": {},
   "outputs": [
    {
     "name": "stdout",
     "output_type": "stream",
     "text": [
      "<class 'pandas.core.frame.DataFrame'>\n",
      "RangeIndex: 1470 entries, 0 to 1469\n",
      "Data columns (total 32 columns):\n",
      " #   Column                       Non-Null Count  Dtype \n",
      "---  ------                       --------------  ----- \n",
      " 0   Age                          1470 non-null   int64 \n",
      " 1   Attrition                    1470 non-null   object\n",
      " 2   Boolean_Attrition            1470 non-null   int64 \n",
      " 3   BusinessTravel               1470 non-null   object\n",
      " 4   Department                   1470 non-null   object\n",
      " 5   DistanceFromHome (in miles)  1470 non-null   int64 \n",
      " 6   Education                    1470 non-null   object\n",
      " 7   EducationField               1470 non-null   object\n",
      " 8   EmployeeNumber               1470 non-null   int64 \n",
      " 9   EnvironmentSatisfaction      1470 non-null   object\n",
      " 10  Gender                       1470 non-null   object\n",
      " 11  Male                         1470 non-null   int64 \n",
      " 12  Annual_Salary                1470 non-null   int64 \n",
      " 13  JobInvolvement               1470 non-null   object\n",
      " 14  JobLevel                     1470 non-null   int64 \n",
      " 15  JobRole                      1470 non-null   object\n",
      " 16  JobSatisfaction              1470 non-null   object\n",
      " 17  MaritalStatus                1470 non-null   object\n",
      " 18  NumCompaniesWorked           1470 non-null   int64 \n",
      " 19  Over18                       1470 non-null   object\n",
      " 20  OverTime                     1470 non-null   object\n",
      " 21  PercentSalaryHike            1470 non-null   int64 \n",
      " 22  PerformanceRating            1470 non-null   object\n",
      " 23  RelationshipSatisfaction     1470 non-null   object\n",
      " 24  StockOptionLevel             1470 non-null   int64 \n",
      " 25  TotalWorkingYears            1470 non-null   int64 \n",
      " 26  TrainingTimesLastYear        1470 non-null   int64 \n",
      " 27  WorkLifeBalance              1470 non-null   object\n",
      " 28  YearsAtCompany               1470 non-null   int64 \n",
      " 29  YearsInCurrentRole           1470 non-null   int64 \n",
      " 30  YearsSinceLastPromotion      1470 non-null   int64 \n",
      " 31  YearsWithCurrManager         1470 non-null   int64 \n",
      "dtypes: int64(16), object(16)\n",
      "memory usage: 367.6+ KB\n"
     ]
    }
   ],
   "source": [
    "df.info()"
   ]
  },
  {
   "cell_type": "code",
   "execution_count": 114,
   "id": "3ece6868-8fe4-4c2d-88d4-6e649ab014f9",
   "metadata": {},
   "outputs": [
    {
     "data": {
      "text/plain": [
       "(1470, 32)"
      ]
     },
     "execution_count": 114,
     "metadata": {},
     "output_type": "execute_result"
    }
   ],
   "source": [
    "df.shape"
   ]
  },
  {
   "cell_type": "code",
   "execution_count": 115,
   "id": "6f62c2ce-417a-4726-adc8-b6ba08584756",
   "metadata": {},
   "outputs": [
    {
     "data": {
      "text/plain": [
       "<AxesSubplot:xlabel='Age', ylabel='Count'>"
      ]
     },
     "execution_count": 115,
     "metadata": {},
     "output_type": "execute_result"
    },
    {
     "data": {
      "image/png": "[encoded data removed]",
      "text/plain": [
       "<Figure size 640x480 with 1 Axes>"
      ]
     },
     "metadata": {},
     "output_type": "display_data"
    }
   ],
   "source": [
    "sns.histplot(data = df, x = \"Age\")"
   ]
  },
  {
   "cell_type": "code",
   "execution_count": 116,
   "id": "2e6a6d04-4c51-4c9e-b146-81ecff7e0d22",
   "metadata": {},
   "outputs": [
    {
     "data": {
      "text/plain": [
       "Index(['Age', 'Attrition', 'Boolean_Attrition', 'BusinessTravel', 'Department',\n",
       "       'DistanceFromHome (in miles)', 'Education', 'EducationField',\n",
       "       'EmployeeNumber', 'EnvironmentSatisfaction', 'Gender', 'Male',\n",
       "       'Annual_Salary', 'JobInvolvement', 'JobLevel', 'JobRole',\n",
       "       'JobSatisfaction', 'MaritalStatus', 'NumCompaniesWorked', 'Over18',\n",
       "       'OverTime', 'PercentSalaryHike', 'PerformanceRating',\n",
       "       'RelationshipSatisfaction', 'StockOptionLevel', 'TotalWorkingYears',\n",
       "       'TrainingTimesLastYear', 'WorkLifeBalance', 'YearsAtCompany',\n",
       "       'YearsInCurrentRole', 'YearsSinceLastPromotion',\n",
       "       'YearsWithCurrManager'],\n",
       "      dtype='object')"
      ]
     },
     "execution_count": 116,
     "metadata": {},
     "output_type": "execute_result"
    }
   ],
   "source": [
    "# List of all columns \n",
    "df.columns"
   ]
  },
  {
   "cell_type": "code",
   "execution_count": 117,
   "id": "f94588b0-a3e5-4358-a568-68602426008b",
   "metadata": {},
   "outputs": [],
   "source": [
    "# Features to use \n",
    "# Years At Company & Attrition"
   ]
  },
  {
   "cell_type": "code",
   "execution_count": 118,
   "id": "e240f5ca-f48f-49e6-a905-4d378dfb3901",
   "metadata": {},
   "outputs": [],
   "source": [
    "# Tenure\n",
    "\n",
    "duration = df[\"YearsAtCompany\"]"
   ]
  },
  {
   "cell_type": "code",
   "execution_count": 119,
   "id": "3a8a5b32-647f-4057-9faa-aeb0f9894572",
   "metadata": {},
   "outputs": [],
   "source": [
    "# Event Observed\n",
    "\n",
    "attrition = df[\"Boolean_Attrition\"]"
   ]
  },
  {
   "cell_type": "code",
   "execution_count": 120,
   "id": "4fbb63e7-65a9-4217-856f-ce3e0af30fe2",
   "metadata": {},
   "outputs": [],
   "source": [
    "# create a kmf object \n",
    "kmf = KaplanMeierFitter()"
   ]
  },
  {
   "cell_type": "code",
   "execution_count": 121,
   "id": "5da8c5af-e50d-4fc4-9d87-b6d3cb8b8a09",
   "metadata": {},
   "outputs": [
    {
     "data": {
      "text/plain": [
       "<lifelines.KaplanMeierFitter:\"Kaplan Meier Estimate\", fitted with 1470 total observations, 1233 right-censored observations>"
      ]
     },
     "execution_count": 121,
     "metadata": {},
     "output_type": "execute_result"
    }
   ],
   "source": [
    "# Fit the data into the model\n",
    "kmf.fit(duration, attrition, label = \"Kaplan Meier Estimate\")"
   ]
  },
  {
   "cell_type": "code",
   "execution_count": 122,
   "id": "8a1d140a-2aeb-4641-a707-6e6e5d02d359",
   "metadata": {},
   "outputs": [
    {
     "data": {
      "text/plain": [
       "<AxesSubplot:xlabel='timeline'>"
      ]
     },
     "execution_count": 122,
     "metadata": {},
     "output_type": "execute_result"
    },
    {
     "data": {
      "image/png": "[encoded data removed]",
      "text/plain": [
       "<Figure size 640x480 with 1 Axes>"
      ]
     },
     "metadata": {},
     "output_type": "display_data"
    }
   ],
   "source": [
    "## Create an estimate\n",
    "kmf.plot(ci_show = False) \n",
    "\n",
    "## ci_show is meant for confidence interval, since our data set is too tiny, thus this won't be showed. "
   ]
  },
  {
   "cell_type": "code",
   "execution_count": 123,
   "id": "18972275-e0f7-41aa-908d-e958db4b3ed8",
   "metadata": {},
   "outputs": [],
   "source": [
    "## Two cohorts are compared. 1. Stayed at company \n",
    "## 2. Left company.  \n",
    "\n",
    "groups = df[\"Attrition\"]\n",
    "# Cohort 1\n",
    "i1 = (groups == \"No\")\n",
    "\n",
    "# Cohort 2\n",
    "i2 = (groups == \"Yes\")"
   ]
  },
  {
   "cell_type": "code",
   "execution_count": 131,
   "id": "d025c5ae-2436-492a-b0ed-4780fae42cc5",
   "metadata": {},
   "outputs": [
    {
     "data": {
      "text/plain": [
       "<AxesSubplot:xlabel='timeline'>"
      ]
     },
     "execution_count": 131,
     "metadata": {},
     "output_type": "execute_result"
    },
    {
     "data": {
      "image/png": "[encoded data removed]",
      "text/plain": [
       "<Figure size 640x480 with 1 Axes>"
      ]
     },
     "metadata": {},
     "output_type": "display_data"
    }
   ],
   "source": [
    "## fit the model for 1st cohort\n",
    "kmf.fit(duration[i1], attrition[i1], label = \"Stayed\")\n",
    "a1 = kmf.plot()\n",
    "\n",
    "## fit the model for 2nd cohort\n",
    "kmf.fit(duration[i2], attrition[i2], label = \"Left\")\n",
    "kmf.plot(ax = a1)"
   ]
  },
  {
   "cell_type": "code",
   "execution_count": 127,
   "id": "88fa3256-da70-4f45-a8bf-36ede3e4d058",
   "metadata": {},
   "outputs": [],
   "source": [
    "\"\"\" Conclusion : The biggest decline (drop off in probability of employees staying) occurs at the one year mark to about the two and a half year mark.\n",
    "Then there is a steady drop off until the 10 year mark and a slight decline from the 10 year to 40 year mark. \n",
    "\"\"\""
   ]
  }
 ],
 "metadata": {
  "kernelspec": {
   "display_name": "Python 3 (ipykernel)",
   "language": "python",
   "name": "python3"
  },
  "language_info": {
   "codemirror_mode": {
    "name": "ipython",
    "version": 3
   },
   "file_extension": ".py",
   "mimetype": "text/x-python",
   "name": "python",
   "nbconvert_exporter": "python",
   "pygments_lexer": "ipython3",
   "version": "3.9.13"
  }
 },
 "nbformat": 4,
 "nbformat_minor": 5
}
